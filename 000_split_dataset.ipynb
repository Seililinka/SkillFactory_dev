{
 "cells": [
  {
   "cell_type": "code",
   "execution_count": 1,
   "id": "1d676453-7166-4d9d-abcd-a9547eec9b60",
   "metadata": {},
   "outputs": [],
   "source": [
    "import os\n",
    "import glob\n",
    "import shutil\n",
    "from sklearn.model_selection import train_test_split"
   ]
  },
  {
   "cell_type": "code",
   "execution_count": 2,
   "id": "98f02480-730e-4017-830f-2168c9fa0c58",
   "metadata": {},
   "outputs": [],
   "source": [
    "path_all='/home/msi/Документы/project/car_classification/data/train/'\n",
    "imgs_list=[]\n",
    "class_list=[]\n",
    "for i in glob.glob(f'{path_all}*'):\n",
    "    for j in glob.glob(f'{i}/*'):\n",
    "        imgs_list.append(j)\n",
    "        class_list.append(os.path.basename(i))"
   ]
  },
  {
   "cell_type": "code",
   "execution_count": 3,
   "id": "92b09a13-7c00-4ad6-8e09-d55589f67116",
   "metadata": {},
   "outputs": [],
   "source": [
    "# Разбивка на классы\n",
    "X_train, X_valid, y_train, y_valid = train_test_split(imgs_list, class_list, test_size=0.2, random_state=142)"
   ]
  },
  {
   "cell_type": "code",
   "execution_count": 4,
   "id": "2ae12d3b-fcfe-40c5-b037-d5eae87a0c1f",
   "metadata": {},
   "outputs": [],
   "source": [
    "# Разобъём раскидаем ихображения в соотношении 20% валидация 80% trains"
   ]
  },
  {
   "cell_type": "code",
   "execution_count": 6,
   "id": "06960309-8e91-4a7a-82f4-f381b5842551",
   "metadata": {
    "scrolled": true,
    "tags": []
   },
   "outputs": [],
   "source": [
    "dir_out='/home/msi/Документы/project/car_classification/data/TRAIN_SESSION/'\n",
    "t='train'\n",
    "for idx,i in enumerate(X_train):\n",
    "    cl=y_train[idx]\n",
    "    path_out=os.path.join(dir_out,cl,t)\n",
    "    if not os.path.exists(path_out):\n",
    "        os.makedirs(path_out)\n",
    "    shutil.copy(i,os.path.join(path_out,os.path.basename(i)))"
   ]
  },
  {
   "cell_type": "code",
   "execution_count": 7,
   "id": "67324a3c-a2fe-4e8b-82ba-54732b7d777a",
   "metadata": {
    "scrolled": true,
    "tags": []
   },
   "outputs": [],
   "source": [
    "dir_out='/home/msi/Документы/project/car_classification/data/TRAIN_SESSION/'\n",
    "t='valid'\n",
    "for idx,i in enumerate(X_valid):\n",
    "    cl=y_valid[idx]\n",
    "    path_out=os.path.join(dir_out,cl,t)\n",
    "    if not os.path.exists(path_out):\n",
    "        os.makedirs(path_out)\n",
    "    shutil.copy(i,os.path.join(path_out,os.path.basename(i)))"
   ]
  },
  {
   "cell_type": "code",
   "execution_count": null,
   "id": "dc682e53-a5b0-428d-a8cb-8cd1bb6441cc",
   "metadata": {},
   "outputs": [],
   "source": []
  }
 ],
 "metadata": {
  "kernelspec": {
   "display_name": "Python 3 (ipykernel)",
   "language": "python",
   "name": "python3"
  },
  "language_info": {
   "codemirror_mode": {
    "name": "ipython",
    "version": 3
   },
   "file_extension": ".py",
   "mimetype": "text/x-python",
   "name": "python",
   "nbconvert_exporter": "python",
   "pygments_lexer": "ipython3",
   "version": "3.8.10"
  }
 },
 "nbformat": 4,
 "nbformat_minor": 5
}
