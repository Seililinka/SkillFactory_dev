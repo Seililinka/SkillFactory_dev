{
 "cells": [
  {
   "cell_type": "code",
   "execution_count": 1,
   "metadata": {},
   "outputs": [
    {
     "name": "stdout",
     "output_type": "stream",
     "text": [
      "Ваш алгоритм угадывает число в среднем за 7 попыток\n"
     ]
    },
    {
     "data": {
      "text/plain": [
       "7"
      ]
     },
     "execution_count": 1,
     "metadata": {},
     "output_type": "execute_result"
    }
   ],
   "source": [
    "## for git\n",
    "import numpy as np\n",
    "number = np.random.randint(1,101) # загадали число \n",
    "def game_core_v1(number):\n",
    "    a=1 # задаем начало отрезка a__b, включающего загаданное число\n",
    "    b=100 # задаем конец отрезка a__b, включающего загаданное число\n",
    "    predict=int(b/2) # задаем начальное значение предсказываемого числа, равное медиане отрезка a__b\n",
    "    count=0 # счетчик попыток\n",
    "    for i in range(a, b): # Условия для прохода по циклу\n",
    "        # Тело цикла\n",
    "        if number == predict:\n",
    "            count=count+1  # плюсуем попытку, в случае угаданного числа можем вывести результат: print('ваше число',predict,', отгадано за',count,'попыток')\n",
    "            break # выход из цикла, если угадали\n",
    "        elif predict < number: # проверяем больше ли загаданное число предсказываемого\n",
    "          a=predict # если число больше, ограничиваем слева отрезок, на котором ищем загаданное число \n",
    "          predict=a+((b-a)//2) # находим середину нового отрезка, и присваиваем переменной предсказываемого числа\n",
    "          count=count+1 ##  плюсуем попытку\n",
    "        else:\n",
    "          b=predict ## если число меньше, ограничиваем справа отрезок, на котором ищем загаданное число \n",
    "          predict=b-((b-a)//2) ## находим середину нового отрезка, и присваиваем переменной предсказываемого числа \n",
    "          count=count+1  # плюсуем попытку\n",
    "    return(count) # выход из цикла, если угадали\n",
    "def score_game(game_core):\n",
    "    '''Запускаем игру 1000 раз, чтобы узнать, как быстро игра угадывает число'''\n",
    "    count_ls = []\n",
    "    np.random.seed(1)  # фиксируем RANDOM SEED, чтобы эксперимент был воспроизводим!\n",
    "    random_array = np.random.randint(1,101, size=(1000))\n",
    "    for number in random_array:\n",
    "        count_ls.append(game_core(number))\n",
    "    score = int(np.mean(count_ls))\n",
    "    print(f\"Ваш алгоритм угадывает число в среднем за {score} попыток\")\n",
    "    return(score)\n",
    "# запускаем\n",
    "score_game(game_core_v1)"
   ]
  }
 ],
 "metadata": {
  "kernelspec": {
   "display_name": "Python 3",
   "language": "python",
   "name": "python3"
  },
  "language_info": {
   "codemirror_mode": {
    "name": "ipython",
    "version": 3
   },
   "file_extension": ".py",
   "mimetype": "text/x-python",
   "name": "python",
   "nbconvert_exporter": "python",
   "pygments_lexer": "ipython3",
   "version": "3.6.1"
  }
 },
 "nbformat": 4,
 "nbformat_minor": 2
}
